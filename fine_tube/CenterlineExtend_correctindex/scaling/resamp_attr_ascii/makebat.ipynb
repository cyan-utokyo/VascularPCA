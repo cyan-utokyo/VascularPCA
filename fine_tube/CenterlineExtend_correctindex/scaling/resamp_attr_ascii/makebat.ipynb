{
 "cells": [
  {
   "cell_type": "code",
   "execution_count": 19,
   "metadata": {},
   "outputs": [
    {
     "name": "stdout",
     "output_type": "stream",
     "text": [
      "make bat in dir:  d:\\!BraVa_src\\src\\ModeDecomposition\\scaling\\resamp_attr_ascii\\\n",
      "src dir:  d:\\!BraVa_src\\src\\ModeDecomposition\\scaling\\\n",
      "d:\\\\!BraVa_src\\\\src\\\\ModeDecomposition\\\\scaling\\\\resamp_attr_ascii\\\\\n",
      "d:\\\\!BraVa_src\\\\src\\\\ModeDecomposition\\\\scaling\\\\\n",
      "['BG0002_Left.vtk', 'BG0002_Right.vtk', 'BG0014_Left.vtk', 'BG0014_Right.vtk', 'BG0019_Left.vtk', 'BG0019_Right.vtk', 'BG0020_Left.vtk', 'BG0020_Right.vtk', 'BG0021_Left.vtk', 'BG0021_Right.vtk', 'BG0022_Left.vtk', 'BG0022_Right.vtk', 'BG04_Left.vtk', 'BG04_Right.vtk', 'BG09_Left.vtk', 'BG09_Right.vtk', 'BG10_Left.vtk', 'BG10_Right.vtk', 'BG11_Left.vtk', 'BG11_Right.vtk', 'BG12_Left.vtk', 'BG12_Right.vtk', 'BG13_Left.vtk', 'BG13_Right.vtk', 'BG15_Left.vtk', 'BG15_Right.vtk', 'BG17_Left.vtk', 'BG17_Right.vtk', 'BG18_Left.vtk', 'BG18_Right.vtk', 'BH0002_Left.vtk', 'BH0002_Right.vtk', 'BH0003_Left.vtk', 'BH0003_Right.vtk', 'BH0004_Left.vtk', 'BH0004_Right.vtk', 'BH0005_Left.vtk', 'BH0005_Right.vtk', 'BH0006_Left.vtk', 'BH0006_Right.vtk', 'BH0008_Left.vtk', 'BH0008_Right.vtk', 'BH0009_Left.vtk', 'BH0009_Right.vtk', 'BH0010_Left.vtk', 'BH0010_Right.vtk', 'BH0011_Left.vtk', 'BH0011_Right.vtk', 'BH0012_Left.vtk', 'BH0012_Right.vtk', 'BH0013_Left.vtk', 'BH0013_Right.vtk', 'BH0015_Left.vtk', 'BH0015_Right.vtk', 'BH0016_Left.vtk', 'BH0016_Right.vtk', 'BH0017_Left.vtk', 'BH0017_Right.vtk', 'BH0018_Left.vtk', 'BH0018_Right.vtk', 'BH0019_Left.vtk', 'BH0019_Right.vtk', 'BH0020_Left.vtk', 'BH0020_Right.vtk', 'BH0021_Left.vtk', 'BH0021_Right.vtk', 'BH0022_Left.vtk', 'BH0022_Right.vtk', 'BH0023_Left.vtk', 'BH0023_Right.vtk', 'BH0024_Left.vtk', 'BH0024_Right.vtk', 'BH0025_Left.vtk', 'BH0025_Right.vtk', 'BH0026_Left.vtk', 'BH0026_Right.vtk', 'BH0027_Left.vtk', 'BH0027_Right.vtk', 'BH0029_Left.vtk', 'BH0029_Right.vtk', 'BH0030_Left.vtk', 'BH0030_Right.vtk', 'BH0031_Left.vtk', 'BH0031_Right.vtk', 'BH0032_Left.vtk', 'BH0032_Right.vtk', 'BH0033_Left.vtk', 'BH0033_Right.vtk', 'BH0034_Left.vtk', 'BH0034_Right.vtk', 'BH0035_Left.vtk', 'BH0035_Right.vtk', 'BH0036_Left.vtk', 'BH0036_Right.vtk', 'BH0037_Left.vtk', 'BH0037_Right.vtk', 'BH0038_Left.vtk', 'BH0038_Right.vtk', 'BH0039_Left.vtk', 'BH0039_Right.vtk', 'BH0040_Left.vtk', 'BH0040_Right.vtk', 'BI0001_Left.vtk', 'BI0001_Right.vtk']\n"
     ]
    }
   ],
   "source": [
    "# \"D:\\!BraVa_src\\Brava\\splined_major\\reversed\\attribute\"\n",
    "\n",
    "import glob\n",
    "import os\n",
    "\n",
    "current_dir = os.getcwd().split(\"\\\\\")\n",
    "thisdir = \"\"\n",
    "w_thisdir = \"\"\n",
    "for i in current_dir:\n",
    "    thisdir = thisdir+i+\"\\\\\"\n",
    "    w_thisdir = w_thisdir+i+\"\\\\\\\\\"\n",
    "srcdir = \"\"\n",
    "w_srcdir = \"\"\n",
    "for i in range(len(current_dir)-1):\n",
    "    srcdir = srcdir + current_dir[i]+\"\\\\\"\n",
    "    w_srcdir = w_srcdir + current_dir[i]+\"\\\\\\\\\"\n",
    "print (\"make bat in dir: \", thisdir)\n",
    "print (\"src dir: \",srcdir)\n",
    "\n",
    "print (w_thisdir)\n",
    "print (w_srcdir)\n",
    "\n",
    "vtks = glob.glob(srcdir+\"*.vtk\")\n",
    "for i in range(len(vtks)):\n",
    "    vtks[i] = vtks[i].split(\"\\\\\")[-1]\n",
    "print (vtks)"
   ]
  },
  {
   "cell_type": "code",
   "execution_count": 20,
   "metadata": {},
   "outputs": [],
   "source": [
    "f = open(\".\\\\make.bat\",'w+')\n",
    "\n",
    "for i in range(len(vtks)):\n",
    "    f.write(\"vmtkcenterlineresampling -ifile \")\n",
    "    filename = vtks[i]\n",
    "    f.write(w_srcdir+filename)\n",
    "    f.write(\" -length 1.0 \")\n",
    "    f.write(\" -ofile \")\n",
    "    f.write(w_thisdir+filename)\n",
    "    f.write(\"\\n\")\n",
    "\n",
    "    f.write(\"vmtkcenterlineattributes -ifile \")\n",
    "    f.write(w_thisdir+filename)\n",
    "    f.write(\" -ofile \")\n",
    "    f.write(w_thisdir+filename)\n",
    "    f.write(\"\\n\")\n",
    "\n",
    "    f.write(\"vmtksurfacewriter -ifile \")\n",
    "    f.write(w_thisdir+filename)\n",
    "    f.write(\" -mode ascii -ofile \")\n",
    "    f.write(w_thisdir+filename)\n",
    "    f.write(\"\\n\")\n",
    "    f.write(\"\\n\")\n",
    "\n",
    "f.close()"
   ]
  },
  {
   "cell_type": "code",
   "execution_count": null,
   "metadata": {},
   "outputs": [],
   "source": []
  }
 ],
 "metadata": {
  "kernelspec": {
   "display_name": "Python 3.9.13 64-bit (microsoft store)",
   "language": "python",
   "name": "python3"
  },
  "language_info": {
   "codemirror_mode": {
    "name": "ipython",
    "version": 3
   },
   "file_extension": ".py",
   "mimetype": "text/x-python",
   "name": "python",
   "nbconvert_exporter": "python",
   "pygments_lexer": "ipython3",
   "version": "3.9.13"
  },
  "orig_nbformat": 4,
  "vscode": {
   "interpreter": {
    "hash": "663dad5c86eded55c8e536aaab67a8023b1a6e14c87f5b93503d30c654407eba"
   }
  }
 },
 "nbformat": 4,
 "nbformat_minor": 2
}
