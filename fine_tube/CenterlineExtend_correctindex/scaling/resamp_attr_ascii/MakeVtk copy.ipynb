{
 "cells": [
  {
   "cell_type": "code",
   "execution_count": 2,
   "metadata": {},
   "outputs": [],
   "source": [
    "import numpy as np\n",
    "import glob\n",
    "import os\n",
    "# import ReadVtk\n",
    "from scipy import interpolate\n",
    "import datetime\n",
    "import pandas as pd"
   ]
  },
  {
   "cell_type": "code",
   "execution_count": 3,
   "metadata": {},
   "outputs": [],
   "source": [
    "#savePath: \"./filename.vtk\", str.\n",
    "\n",
    "# coords(list):\n",
    "# [[x0,y0,z0], [x1,y1,z1],...]\n",
    "\n",
    "# scalarAttribute(list):\n",
    "# [['MaximumInscribedSphereRadius', 'float', [s0, s1, s2, ...]]]\n",
    "\n",
    "# fieldAttribute(list):\n",
    "#  [['Curvature', 'float',[c0, c1, c2, ...]],\n",
    "#  ['Torsion', 'float', [t0, t1, t2, ...]]]\n",
    "\n",
    "\n",
    "def makeVtkFile(savePath, coords, scalarAttributes, fieldAttributes):\n",
    "    v = open(savePath, \"w+\")\n",
    "\n",
    "    v.write(\"# vtk DataFile Version 2.0\\nVessel Segment\\nASCII\\nDATASET POLYDATA\\nPOINTS {} float\\n\".format(len(coords)))\n",
    "    for i in range(len(coords)):\n",
    "        v.write(\"{} {} {}\\n\".format(coords[i,0], coords[i,1], coords[i,2]))\n",
    "\n",
    "    v.write(\"LINES {} {}\\n\".format(1, len(coords)+1))\n",
    "    v.write(\"{}\".format(len(coords)))\n",
    "    for i in range(len(coords)):\n",
    "        v.write(\" {}\".format(i))\n",
    "    v.write(\"\\n\")\n",
    "    \n",
    "    #####################################\n",
    "    #for i in new_LINES:                #\n",
    "    #    v.write(\"{} \".format(len(i)))  #\n",
    "    #    for j in range(len(i)):        #\n",
    "    #        v.write(\"{} \".format(i[j]))#\n",
    "    #    v.write(\"\\n\")                  #\n",
    "    #####################################\n",
    "\n",
    "    ####################################\n",
    "    #        scalar Attributes         #\n",
    "    ####################################\n",
    "\n",
    "    if len(scalarAttributes) > 0:\n",
    "        v.write(\"POINT_DATA {}\\n\".format(len(coords)))\n",
    "    else: \n",
    "        return\n",
    "\n",
    "    for i in range(len(scalarAttributes)):\n",
    "        v.write(\"SCALARS {} {}\\n\".format(scalarAttributes[i][0], scalarAttributes[i][1]))\n",
    "        v.write(\"LOOKUP_TABLE default\\n\")\n",
    "        for j in range(len(coords)):\n",
    "                v.write(\"{}\\n\".format(scalarAttributes[i][2][j]))\n",
    "\n",
    "    ####################################\n",
    "    #         field Attributes         #\n",
    "    ####################################\n",
    "\n",
    "    if len(fieldAttributes) > 0:\n",
    "        v.write(\"FIELD FieldData {}\\n\".format(len(fieldAttributes)))\n",
    "    else: \n",
    "        return\n",
    "\n",
    "    for i in range(len(fieldAttributes)):\n",
    "        v.write(\"{} 1 {} {}\\n\".format(fieldAttributes[i][0], len(coords), fieldAttributes[i][1]))\n",
    "        # v.write(\"LOOKUP_TABLE default\\n\")\n",
    "        for j in range(len(coords)):\n",
    "                v.write(\"{}\\n\".format(fieldAttributes[i][2][j]))\n",
    "\n",
    "    v.close()\n"
   ]
  },
  {
   "cell_type": "code",
   "execution_count": 4,
   "metadata": {},
   "outputs": [],
   "source": [
    "# casename = \"Mode1_neg_-5\"\n",
    "\n",
    "# input_file = 'C://Users//Carlos//Desktop//Chensan//synthetic_vessels//PC1STL//PC1_000_-5.268.xlsx'\n",
    "\n",
    "# #added by LIANG - read excel file and extract data inside\n",
    "\n",
    "# c0cl = pd.read_excel(input_file).to_numpy()\n",
    "# # print(np.stack([c0cl[:,1],c0cl[:,2],c0cl[:,3]],1))\n",
    "# # ind | x | y | z | R\n",
    "# radius = c0cl[:,4]\n",
    "# coords = np.stack([c0cl[:,1],c0cl[:,2],c0cl[:,3]],1)\n",
    "\n",
    "# scalarAttributes = [['MaximumInscribedSphereRadius', 'float', radius]]\n",
    "\n",
    "# # curvature データ必要ないんだったら[]に指定\n",
    "# #fieldAttributes = [['Curvature', 'double', curv],pd[iddpdp jdijjdjdiJiJjidji]\n",
    "# #                    ['Torsion', 'double', tors]]\n",
    "# fieldAttributes = []\n",
    "\n",
    "# outPath = os.path.splitext(input_file)[0]\n",
    "\n",
    "# savePath = \"C://Users//Carlos//Desktop//Chensan//synthetic_vessels//PC1STL//{}.vtk\".format(casename)\n",
    "\n",
    "# makeVtkFile(savePath, coords, scalarAttributes, fieldAttributes)\n",
    "\n",
    "# print (\"last output:\",datetime.datetime.now())\n",
    "\n",
    "# #then print a command to get stl file\n",
    "\n",
    "# print(\"vmtkcenterlinemodeller -ifile \" + savePath + \" -radiusarray MaximumInscribedSphereRadius -dimensions 256 256 256 --pipe vmtkmarchingcubes -ofile \" + outPath + \".stl\")"
   ]
  },
  {
   "attachments": {},
   "cell_type": "markdown",
   "metadata": {},
   "source": [
    "## Read all files in the folder"
   ]
  },
  {
   "cell_type": "code",
   "execution_count": 7,
   "metadata": {},
   "outputs": [],
   "source": [
    "\n",
    "\n",
    "# set the directory where your Excel files are located\n",
    "dir_path = \"C://Users//Carlos//Desktop//Chensan//0322Latest//scaling//resamp_attr_ascii\"\n",
    "\n",
    "\n",
    "\n",
    "# loop through all files in the directory\n",
    "for filename in os.listdir(dir_path):\n",
    "    # check if the file is an Excel file\n",
    "    if filename.endswith(\".xlsx\"):\n",
    "        # create the full path of the input file\n",
    "        input_file = os.path.join(dir_path, filename)\n",
    "        # set the casename\n",
    "        casename = filename[:-5]\n",
    "        # read the Excel file and extract data inside\n",
    "        c0cl = pd.read_excel(input_file).to_numpy()\n",
    "        radius = c0cl[:,4]\n",
    "        coords = np.stack([c0cl[:,1],c0cl[:,2],c0cl[:,3]],1)\n",
    "        scalarAttributes = [['MaximumInscribedSphereRadius', 'float', radius]]\n",
    "        fieldAttributes = []\n",
    "        # create the output file path\n",
    "        outPath = os.path.join(\"C://Users//Carlos//Desktop//Chensan//0322Latest//scaling//resamp_attr_ascii//vmtkgeometry64\", \"{}.stl\".format(casename))\n",
    "        # create the save path for the VTK file\n",
    "        savePath = os.path.join(dir_path, \"{}.vtk\".format(casename))\n",
    "        # create the VTK file\n",
    "        makeVtkFile(savePath, coords, scalarAttributes, fieldAttributes)\n",
    "        # print(\"Created VTK file for: \", input_file)\n",
    "        # create the command to convert the VTK file to STL\n",
    "        # stl_command = \"vmtkcenterlinemodeller -ifile \" + savePath + \" -radiusarray MaximumInscribedSphereRadius -dimensions 256 256 256 --pipe vmtkmarchingcubes -ofile \" + outPath\n",
    "        # print(stl_command)\n",
    "        # geometry_command = \"vmtkcenterlinegeometry -smoothing 1 -iterations 300 -factor 0.1 -ifile \" + savePath + \" -ofile \" + outPath\n",
    "        # print(geometry_command)"
   ]
  },
  {
   "attachments": {},
   "cell_type": "markdown",
   "metadata": {},
   "source": []
  },
  {
   "attachments": {},
   "cell_type": "markdown",
   "metadata": {},
   "source": []
  },
  {
   "cell_type": "code",
   "execution_count": 6,
   "metadata": {},
   "outputs": [
    {
     "ename": "SyntaxError",
     "evalue": "invalid syntax (<ipython-input-6-a0c6399114bb>, line 2)",
     "output_type": "error",
     "traceback": [
      "\u001b[1;36m  File \u001b[1;32m\"<ipython-input-6-a0c6399114bb>\"\u001b[1;36m, line \u001b[1;32m2\u001b[0m\n\u001b[1;33m    vmtkcenterlinemodeller -ifile C:\\\\Users\\\\Carlos\\\\Desktop\\\\Chensan\\\\1201 New Resampling\\\\centerlines\\\\resampling\\\\Avg_c0.vtk -radiusarray MaximumInscribedSphereRadius -dimensions 64 64 64 --pipe vmtkmarchingcubes -ofile C:\\\\Users\\\\Carlos\\\\Desktop\\\\Chensan\\\\1201 New Resampling\\\\centerlines\\\\resampling\\\\Average_c0.stl\u001b[0m\n\u001b[1;37m                                  ^\u001b[0m\n\u001b[1;31mSyntaxError\u001b[0m\u001b[1;31m:\u001b[0m invalid syntax\n"
     ]
    }
   ],
   "source": [
    "# Average c0\n",
    "vmtkcenterlinemodeller -ifile C:\\\\Users\\\\Carlos\\\\Desktop\\\\Chensan\\\\1201 New Resampling\\\\centerlines\\\\resampling\\\\Avg_c0.vtk -radiusarray MaximumInscribedSphereRadius -dimensions 64 64 64 --pipe vmtkmarchingcubes -ofile C:\\\\Users\\\\Carlos\\\\Desktop\\\\Chensan\\\\1201 New Resampling\\\\centerlines\\\\resampling\\\\Average_c0.stl\n"
   ]
  },
  {
   "cell_type": "code",
   "execution_count": null,
   "metadata": {},
   "outputs": [],
   "source": [
    "# Average c1\n",
    "vmtkcenterlinemodeller -ifile C:\\\\Users\\\\Carlos\\\\Desktop\\\\Chensan\\\\resampling\\\\Avg_total.vtk -radiusarray MaximumInscribedSphereRadius -dimensions 64 64 64 --pipe vmtkmarchingcubes -ofile C:\\\\Users\\\\Carlos\\\\Desktop\\\\Chensan\\\\resampling\\\\Avg_total.stl\n"
   ]
  },
  {
   "cell_type": "code",
   "execution_count": null,
   "metadata": {},
   "outputs": [],
   "source": [
    "# Average c2\n",
    "vmtkcenterlinemodeller -ifile C:\\\\Users\\\\Carlos\\\\Desktop\\\\Chensan\\\\PCA\\\\vtk_centerline\\\\Average_c2.vtk -radiusarray MaximumInscribedSphereRadius -dimensions 64 64 64 --pipe vmtkmarchingcubes -ofile C:\\\\Users\\\\Carlos\\\\Desktop\\\\Chensan\\\\PCA\\\\vtk_centerline\\\\Average_c2.stl\n"
   ]
  },
  {
   "cell_type": "code",
   "execution_count": null,
   "metadata": {},
   "outputs": [],
   "source": [
    "# Average c0123\n",
    "vmtkcenterlinemodeller -ifile C:\\\\Users\\\\Carlos\\\\Desktop\\\\Chensan\\\\PCA\\\\vtk_centerline\\\\Average_c0123.vtk -radiusarray MaximumInscribedSphereRadius -dimensions 64 64 64 --pipe vmtkmarchingcubes -ofile C:\\\\Users\\\\Carlos\\\\Desktop\\\\Chensan\\\\PCA\\\\vtk_centerline\\\\Average_c0123.stl\n"
   ]
  }
 ],
 "metadata": {
  "kernelspec": {
   "display_name": "Python 3.9.13 64-bit",
   "language": "python",
   "name": "python3"
  },
  "language_info": {
   "codemirror_mode": {
    "name": "ipython",
    "version": 3
   },
   "file_extension": ".py",
   "mimetype": "text/x-python",
   "name": "python",
   "nbconvert_exporter": "python",
   "pygments_lexer": "ipython3",
   "version": "3.6.13"
  },
  "orig_nbformat": 4,
  "vscode": {
   "interpreter": {
    "hash": "1b83b30d6066582ff9231d40c03036643e73de525e8afacd80f1d9dce61ab9c1"
   }
  }
 },
 "nbformat": 4,
 "nbformat_minor": 2
}
