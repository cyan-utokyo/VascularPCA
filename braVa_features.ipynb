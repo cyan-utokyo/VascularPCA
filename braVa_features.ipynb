{
 "cells": [
  {
   "cell_type": "code",
   "execution_count": 5,
   "metadata": {},
   "outputs": [],
   "source": [
    "import requests\n",
    "from bs4 import BeautifulSoup\n",
    "import pandas as pd\n",
    "import re\n",
    "# f=open(\"BraVaFeature.csv\",\"w\")\n",
    "# for idx in range(1,63):\n",
    "#     # 网页链接\n",
    "#     url = 'http://cng.gmu.edu/brava/query_subject.php?id={}'.format(idx)\n",
    "\n",
    "#     # 发送HTTP请求\n",
    "#     response = requests.get(url)\n",
    "\n",
    "#     # 解析HTML代码\n",
    "#     soup = BeautifulSoup(response.text, 'html.parser')\n",
    "\n",
    "#     # 找到页面中的所有表格\n",
    "#     tables = soup.find_all('table')\n",
    "#     # print (len(tables))\n",
    "#     casename_line = re.sub(r'<.*?>', '', str(tables[4])).split(\"\\n\")\n",
    "#     casename_line = [i for i in casename_line  if i != '']\n",
    "#     # print (casename_line)\n",
    "#     casename = re.sub(r'[^a-zA-Z0-9_]', '', casename_line[3])\n",
    "#     print (casename)\n",
    "\n",
    "\n",
    "#     text_Branch = re.sub(r'<.*?>', '', str(tables[20]))\n",
    "#     text_Branch = text_Branch.split(\"\\n\")\n",
    "#     text_Branch = [i for i in text_Branch if i != '']\n",
    "#     print (text_Branch)\n",
    "#     f.write(casename+\", \")\n",
    "#     for i in range(len(text_Branch)):\n",
    "#         f.write(text_Branch[i]+\", \")\n",
    "#     f.write(\"\\n\")\n",
    "# f.close()"
   ]
  },
  {
   "cell_type": "code",
   "execution_count": 6,
   "metadata": {},
   "outputs": [
    {
     "ename": "UnicodeDecodeError",
     "evalue": "'utf-8' codec can't decode byte 0x81 in position 41: invalid start byte",
     "output_type": "error",
     "traceback": [
      "\u001b[1;31m---------------------------------------------------------------------------\u001b[0m",
      "\u001b[1;31mUnicodeDecodeError\u001b[0m                        Traceback (most recent call last)",
      "Cell \u001b[1;32mIn[6], line 7\u001b[0m\n\u001b[0;32m      5\u001b[0m \u001b[39mfrom\u001b[39;00m \u001b[39msklearn\u001b[39;00m\u001b[39m.\u001b[39;00m\u001b[39mpreprocessing\u001b[39;00m \u001b[39mimport\u001b[39;00m StandardScaler\n\u001b[0;32m      6\u001b[0m scaler \u001b[39m=\u001b[39m StandardScaler()\n\u001b[1;32m----> 7\u001b[0m df \u001b[39m=\u001b[39m pd\u001b[39m.\u001b[39;49mread_csv(\u001b[39m\"\u001b[39;49m\u001b[39mBraVaFeature.csv\u001b[39;49m\u001b[39m\"\u001b[39;49m,header\u001b[39m=\u001b[39;49m\u001b[39mNone\u001b[39;49;00m)\n\u001b[0;32m      8\u001b[0m df \u001b[39m=\u001b[39m np\u001b[39m.\u001b[39marray(df)[\u001b[39m1\u001b[39m:]\n\u001b[0;32m      9\u001b[0m casenames \u001b[39m=\u001b[39m df[:,\u001b[39m0\u001b[39m]\n",
      "File \u001b[1;32m~\\AppData\\Local\\Packages\\PythonSoftwareFoundation.Python.3.10_qbz5n2kfra8p0\\LocalCache\\local-packages\\Python310\\site-packages\\pandas\\util\\_decorators.py:211\u001b[0m, in \u001b[0;36mdeprecate_kwarg.<locals>._deprecate_kwarg.<locals>.wrapper\u001b[1;34m(*args, **kwargs)\u001b[0m\n\u001b[0;32m    209\u001b[0m     \u001b[39melse\u001b[39;00m:\n\u001b[0;32m    210\u001b[0m         kwargs[new_arg_name] \u001b[39m=\u001b[39m new_arg_value\n\u001b[1;32m--> 211\u001b[0m \u001b[39mreturn\u001b[39;00m func(\u001b[39m*\u001b[39margs, \u001b[39m*\u001b[39m\u001b[39m*\u001b[39mkwargs)\n",
      "File \u001b[1;32m~\\AppData\\Local\\Packages\\PythonSoftwareFoundation.Python.3.10_qbz5n2kfra8p0\\LocalCache\\local-packages\\Python310\\site-packages\\pandas\\util\\_decorators.py:331\u001b[0m, in \u001b[0;36mdeprecate_nonkeyword_arguments.<locals>.decorate.<locals>.wrapper\u001b[1;34m(*args, **kwargs)\u001b[0m\n\u001b[0;32m    325\u001b[0m \u001b[39mif\u001b[39;00m \u001b[39mlen\u001b[39m(args) \u001b[39m>\u001b[39m num_allow_args:\n\u001b[0;32m    326\u001b[0m     warnings\u001b[39m.\u001b[39mwarn(\n\u001b[0;32m    327\u001b[0m         msg\u001b[39m.\u001b[39mformat(arguments\u001b[39m=\u001b[39m_format_argument_list(allow_args)),\n\u001b[0;32m    328\u001b[0m         \u001b[39mFutureWarning\u001b[39;00m,\n\u001b[0;32m    329\u001b[0m         stacklevel\u001b[39m=\u001b[39mfind_stack_level(),\n\u001b[0;32m    330\u001b[0m     )\n\u001b[1;32m--> 331\u001b[0m \u001b[39mreturn\u001b[39;00m func(\u001b[39m*\u001b[39margs, \u001b[39m*\u001b[39m\u001b[39m*\u001b[39mkwargs)\n",
      "File \u001b[1;32m~\\AppData\\Local\\Packages\\PythonSoftwareFoundation.Python.3.10_qbz5n2kfra8p0\\LocalCache\\local-packages\\Python310\\site-packages\\pandas\\io\\parsers\\readers.py:950\u001b[0m, in \u001b[0;36mread_csv\u001b[1;34m(filepath_or_buffer, sep, delimiter, header, names, index_col, usecols, squeeze, prefix, mangle_dupe_cols, dtype, engine, converters, true_values, false_values, skipinitialspace, skiprows, skipfooter, nrows, na_values, keep_default_na, na_filter, verbose, skip_blank_lines, parse_dates, infer_datetime_format, keep_date_col, date_parser, dayfirst, cache_dates, iterator, chunksize, compression, thousands, decimal, lineterminator, quotechar, quoting, doublequote, escapechar, comment, encoding, encoding_errors, dialect, error_bad_lines, warn_bad_lines, on_bad_lines, delim_whitespace, low_memory, memory_map, float_precision, storage_options)\u001b[0m\n\u001b[0;32m    935\u001b[0m kwds_defaults \u001b[39m=\u001b[39m _refine_defaults_read(\n\u001b[0;32m    936\u001b[0m     dialect,\n\u001b[0;32m    937\u001b[0m     delimiter,\n\u001b[1;32m   (...)\u001b[0m\n\u001b[0;32m    946\u001b[0m     defaults\u001b[39m=\u001b[39m{\u001b[39m\"\u001b[39m\u001b[39mdelimiter\u001b[39m\u001b[39m\"\u001b[39m: \u001b[39m\"\u001b[39m\u001b[39m,\u001b[39m\u001b[39m\"\u001b[39m},\n\u001b[0;32m    947\u001b[0m )\n\u001b[0;32m    948\u001b[0m kwds\u001b[39m.\u001b[39mupdate(kwds_defaults)\n\u001b[1;32m--> 950\u001b[0m \u001b[39mreturn\u001b[39;00m _read(filepath_or_buffer, kwds)\n",
      "File \u001b[1;32m~\\AppData\\Local\\Packages\\PythonSoftwareFoundation.Python.3.10_qbz5n2kfra8p0\\LocalCache\\local-packages\\Python310\\site-packages\\pandas\\io\\parsers\\readers.py:605\u001b[0m, in \u001b[0;36m_read\u001b[1;34m(filepath_or_buffer, kwds)\u001b[0m\n\u001b[0;32m    602\u001b[0m _validate_names(kwds\u001b[39m.\u001b[39mget(\u001b[39m\"\u001b[39m\u001b[39mnames\u001b[39m\u001b[39m\"\u001b[39m, \u001b[39mNone\u001b[39;00m))\n\u001b[0;32m    604\u001b[0m \u001b[39m# Create the parser.\u001b[39;00m\n\u001b[1;32m--> 605\u001b[0m parser \u001b[39m=\u001b[39m TextFileReader(filepath_or_buffer, \u001b[39m*\u001b[39m\u001b[39m*\u001b[39mkwds)\n\u001b[0;32m    607\u001b[0m \u001b[39mif\u001b[39;00m chunksize \u001b[39mor\u001b[39;00m iterator:\n\u001b[0;32m    608\u001b[0m     \u001b[39mreturn\u001b[39;00m parser\n",
      "File \u001b[1;32m~\\AppData\\Local\\Packages\\PythonSoftwareFoundation.Python.3.10_qbz5n2kfra8p0\\LocalCache\\local-packages\\Python310\\site-packages\\pandas\\io\\parsers\\readers.py:1442\u001b[0m, in \u001b[0;36mTextFileReader.__init__\u001b[1;34m(self, f, engine, **kwds)\u001b[0m\n\u001b[0;32m   1439\u001b[0m     \u001b[39mself\u001b[39m\u001b[39m.\u001b[39moptions[\u001b[39m\"\u001b[39m\u001b[39mhas_index_names\u001b[39m\u001b[39m\"\u001b[39m] \u001b[39m=\u001b[39m kwds[\u001b[39m\"\u001b[39m\u001b[39mhas_index_names\u001b[39m\u001b[39m\"\u001b[39m]\n\u001b[0;32m   1441\u001b[0m \u001b[39mself\u001b[39m\u001b[39m.\u001b[39mhandles: IOHandles \u001b[39m|\u001b[39m \u001b[39mNone\u001b[39;00m \u001b[39m=\u001b[39m \u001b[39mNone\u001b[39;00m\n\u001b[1;32m-> 1442\u001b[0m \u001b[39mself\u001b[39m\u001b[39m.\u001b[39m_engine \u001b[39m=\u001b[39m \u001b[39mself\u001b[39;49m\u001b[39m.\u001b[39;49m_make_engine(f, \u001b[39mself\u001b[39;49m\u001b[39m.\u001b[39;49mengine)\n",
      "File \u001b[1;32m~\\AppData\\Local\\Packages\\PythonSoftwareFoundation.Python.3.10_qbz5n2kfra8p0\\LocalCache\\local-packages\\Python310\\site-packages\\pandas\\io\\parsers\\readers.py:1753\u001b[0m, in \u001b[0;36mTextFileReader._make_engine\u001b[1;34m(self, f, engine)\u001b[0m\n\u001b[0;32m   1750\u001b[0m     \u001b[39mraise\u001b[39;00m \u001b[39mValueError\u001b[39;00m(msg)\n\u001b[0;32m   1752\u001b[0m \u001b[39mtry\u001b[39;00m:\n\u001b[1;32m-> 1753\u001b[0m     \u001b[39mreturn\u001b[39;00m mapping[engine](f, \u001b[39m*\u001b[39m\u001b[39m*\u001b[39m\u001b[39mself\u001b[39m\u001b[39m.\u001b[39moptions)\n\u001b[0;32m   1754\u001b[0m \u001b[39mexcept\u001b[39;00m \u001b[39mException\u001b[39;00m:\n\u001b[0;32m   1755\u001b[0m     \u001b[39mif\u001b[39;00m \u001b[39mself\u001b[39m\u001b[39m.\u001b[39mhandles \u001b[39mis\u001b[39;00m \u001b[39mnot\u001b[39;00m \u001b[39mNone\u001b[39;00m:\n",
      "File \u001b[1;32m~\\AppData\\Local\\Packages\\PythonSoftwareFoundation.Python.3.10_qbz5n2kfra8p0\\LocalCache\\local-packages\\Python310\\site-packages\\pandas\\io\\parsers\\c_parser_wrapper.py:79\u001b[0m, in \u001b[0;36mCParserWrapper.__init__\u001b[1;34m(self, src, **kwds)\u001b[0m\n\u001b[0;32m     76\u001b[0m     kwds\u001b[39m.\u001b[39mpop(key, \u001b[39mNone\u001b[39;00m)\n\u001b[0;32m     78\u001b[0m kwds[\u001b[39m\"\u001b[39m\u001b[39mdtype\u001b[39m\u001b[39m\"\u001b[39m] \u001b[39m=\u001b[39m ensure_dtype_objs(kwds\u001b[39m.\u001b[39mget(\u001b[39m\"\u001b[39m\u001b[39mdtype\u001b[39m\u001b[39m\"\u001b[39m, \u001b[39mNone\u001b[39;00m))\n\u001b[1;32m---> 79\u001b[0m \u001b[39mself\u001b[39m\u001b[39m.\u001b[39m_reader \u001b[39m=\u001b[39m parsers\u001b[39m.\u001b[39mTextReader(src, \u001b[39m*\u001b[39m\u001b[39m*\u001b[39mkwds)\n\u001b[0;32m     81\u001b[0m \u001b[39mself\u001b[39m\u001b[39m.\u001b[39munnamed_cols \u001b[39m=\u001b[39m \u001b[39mself\u001b[39m\u001b[39m.\u001b[39m_reader\u001b[39m.\u001b[39munnamed_cols\n\u001b[0;32m     83\u001b[0m \u001b[39m# error: Cannot determine type of 'names'\u001b[39;00m\n",
      "File \u001b[1;32m~\\AppData\\Local\\Packages\\PythonSoftwareFoundation.Python.3.10_qbz5n2kfra8p0\\LocalCache\\local-packages\\Python310\\site-packages\\pandas\\_libs\\parsers.pyx:547\u001b[0m, in \u001b[0;36mpandas._libs.parsers.TextReader.__cinit__\u001b[1;34m()\u001b[0m\n",
      "File \u001b[1;32m~\\AppData\\Local\\Packages\\PythonSoftwareFoundation.Python.3.10_qbz5n2kfra8p0\\LocalCache\\local-packages\\Python310\\site-packages\\pandas\\_libs\\parsers.pyx:752\u001b[0m, in \u001b[0;36mpandas._libs.parsers.TextReader._get_header\u001b[1;34m()\u001b[0m\n",
      "File \u001b[1;32m~\\AppData\\Local\\Packages\\PythonSoftwareFoundation.Python.3.10_qbz5n2kfra8p0\\LocalCache\\local-packages\\Python310\\site-packages\\pandas\\_libs\\parsers.pyx:852\u001b[0m, in \u001b[0;36mpandas._libs.parsers.TextReader._tokenize_rows\u001b[1;34m()\u001b[0m\n",
      "File \u001b[1;32m~\\AppData\\Local\\Packages\\PythonSoftwareFoundation.Python.3.10_qbz5n2kfra8p0\\LocalCache\\local-packages\\Python310\\site-packages\\pandas\\_libs\\parsers.pyx:1965\u001b[0m, in \u001b[0;36mpandas._libs.parsers.raise_parser_error\u001b[1;34m()\u001b[0m\n",
      "\u001b[1;31mUnicodeDecodeError\u001b[0m: 'utf-8' codec can't decode byte 0x81 in position 41: invalid start byte"
     ]
    }
   ],
   "source": [
    "from sklearn.decomposition import PCA\n",
    "import pandas as pd\n",
    "import numpy as np \n",
    "import matplotlib.pyplot as plt\n",
    "from sklearn.preprocessing import StandardScaler\n",
    "scaler = StandardScaler()\n",
    "df = pd.read_csv(\"BraVaFeature.csv\",header=None)\n",
    "df = np.array(df)[1:]\n",
    "casenames = df[:,0]\n",
    "features = df[:,1:-1]\n",
    "features = features.astype(np.float64)\n",
    "# print (features[:,0])\n",
    "\n",
    "left_features = features[:,::2]\n",
    "right_features = features[:,1::2]\n",
    "\n",
    "# print (left_features[0])\n",
    "# print (right_features[0])\n",
    "total_feature = np.concatenate((left_features,right_features))\n",
    "print (total_feature[0])\n",
    "\n",
    "direction_casenames = []\n",
    "for i in range(len(casenames)):\n",
    "    direction_casenames.append(casenames[i]+\"_Left\")\n",
    "for i in range(len(casenames)):\n",
    "    direction_casenames.append(casenames[i]+\"_Right\")\n"
   ]
  },
  {
   "cell_type": "code",
   "execution_count": null,
   "metadata": {},
   "outputs": [
    {
     "name": "stdout",
     "output_type": "stream",
     "text": [
      "['BG0014_Left', 'BG0014_Right', 'BG0019_Left', 'BG0019_Right', 'BG0020_Left', 'BG0020_Right', 'BG0021_Left', 'BG0021_Right', 'BG0022_Left', 'BG0022_Right', 'BG04_Left', 'BG04_Right', 'BG09_Left', 'BG09_Right', 'BG10_Left', 'BG10_Right', 'BG11_Left', 'BG11_Right', 'BG12_Left', 'BG12_Right', 'BG13_Left', 'BG13_Right', 'BG15_Left', 'BG15_Right', 'BG17_Left', 'BG17_Right', 'BG18_Left', 'BG18_Right', 'BH0003_Left', 'BH0003_Right', 'BH0005_Left', 'BH0005_Right', 'BH0006_Left', 'BH0006_Right', 'BH0009_Left', 'BH0009_Right', 'BH0010_Left', 'BH0010_Right', 'BH0011_Left', 'BH0011_Right', 'BH0012_Left', 'BH0012_Right', 'BH0013_Left', 'BH0013_Right', 'BH0015_Left', 'BH0015_Right', 'BH0016_Left', 'BH0016_Right', 'BH0017_Left', 'BH0017_Right', 'BH0018_Left', 'BH0018_Right', 'BH0019_Left', 'BH0019_Right', 'BH0020_Left', 'BH0020_Right', 'BH0021_Left', 'BH0021_Right', 'BH0022_Left', 'BH0022_Right', 'BH0023_Left', 'BH0023_Right', 'BH0024_Left', 'BH0024_Right', 'BH0025_Left', 'BH0025_Right', 'BH0026_Left', 'BH0026_Right', 'BH0027_Left', 'BH0027_Right', 'BH0029_Left', 'BH0029_Right', 'BH0030_Left', 'BH0030_Right', 'BH0031_Left', 'BH0031_Right', 'BH0033_Left', 'BH0033_Right', 'BH0034_Left', 'BH0034_Right', 'BH0035_Left', 'BH0035_Right', 'BH0036_Left', 'BH0036_Right', 'BH0037_Left', 'BH0037_Right', 'BH0038_Left', 'BH0038_Right', 'BH0039_Left', 'BH0039_Right', 'BH0040_Left', 'BH0040_Right', 'BI0001_Left', 'BI0001_Right']\n"
     ]
    }
   ],
   "source": [
    "f2 = open(\"used_cases.txt\", \"r\")\n",
    "used_cases = f2.readlines()\n",
    "used_cases = [i.strip() for i in used_cases]\n",
    "print (used_cases)"
   ]
  },
  {
   "cell_type": "code",
   "execution_count": null,
   "metadata": {},
   "outputs": [],
   "source": [
    "f = open(\"BraVaFeature_direction.csv\",\"w\")\n",
    "for i in range(len(direction_casenames)):\n",
    "    f.write(direction_casenames[i]+\", \")\n",
    "    for j in range(len(total_feature[i])):\n",
    "        f.write(str(total_feature[i][j])+\", \")\n",
    "    f.write(\"\\n\")\n",
    "f.close()"
   ]
  },
  {
   "cell_type": "code",
   "execution_count": null,
   "metadata": {},
   "outputs": [],
   "source": [
    "s = \"Case,Mean_local_bifurcation_amplitude,Mean_bifurcation_amplitude,Contraction,Partition_asymmetry,Fractal_dimension,Branch_path_length,Mean_bifurcation_tilt,Mean_bifurcation_torque,Mean_fragmentation\\n\"\n"
   ]
  },
  {
   "cell_type": "code",
   "execution_count": null,
   "metadata": {},
   "outputs": [],
   "source": [
    "import re\n",
    "u_names=[]\n",
    "u_features=[]\n",
    "f=open(\"BraVaMCAFeature_direction.csv\",\"w\")\n",
    "f.write(s)\n",
    "for i in range(len(used_cases)):\n",
    "    case_letter = re.findall(r'[a-zA-Z]+', used_cases[i])\n",
    "    case_number =re.findall(r'\\d+', used_cases[i])\n",
    "    case_number = int(case_number[0])\n",
    "    # print (case_letter, case_number)\n",
    "    for j in range(len(direction_casenames)):\n",
    "        direction_letter = re.findall(r'[a-zA-Z]+', direction_casenames[j])\n",
    "        direction_number =re.findall(r'\\d+', direction_casenames[j])\n",
    "        direction_number = int(direction_number[0])\n",
    "        if case_letter == direction_letter and case_number == direction_number:\n",
    "            u_names.append(direction_casenames[j])\n",
    "            u_features.append(total_feature[j])\n",
    "            f.write(direction_casenames[j]+\", \")\n",
    "            for k in range(len(total_feature[j])):  \n",
    "                f.write(str(total_feature[j][k])+\", \")\n",
    "            f.write(\"\\n\")   \n",
    "\n",
    "f.close()"
   ]
  },
  {
   "cell_type": "code",
   "execution_count": null,
   "metadata": {},
   "outputs": [],
   "source": [
    "u_features = np.array(u_features)"
   ]
  },
  {
   "cell_type": "code",
   "execution_count": 4,
   "metadata": {},
   "outputs": [
    {
     "ename": "NameError",
     "evalue": "name 'u_features' is not defined",
     "output_type": "error",
     "traceback": [
      "\u001b[1;31m---------------------------------------------------------------------------\u001b[0m",
      "\u001b[1;31mNameError\u001b[0m                                 Traceback (most recent call last)",
      "Cell \u001b[1;32mIn[4], line 2\u001b[0m\n\u001b[0;32m      1\u001b[0m pca \u001b[39m=\u001b[39m PCA(n_components\u001b[39m=\u001b[39m\u001b[39m2\u001b[39m)\n\u001b[1;32m----> 2\u001b[0m res \u001b[39m=\u001b[39m pca\u001b[39m.\u001b[39mfit_transform(scaler\u001b[39m.\u001b[39mfit_transform(u_features))\n\u001b[0;32m      4\u001b[0m fig \u001b[39m=\u001b[39m plt\u001b[39m.\u001b[39mfigure(dpi\u001b[39m=\u001b[39m\u001b[39m300\u001b[39m,figsize\u001b[39m=\u001b[39m(\u001b[39m20\u001b[39m,\u001b[39m5\u001b[39m))\n\u001b[0;32m      5\u001b[0m ax \u001b[39m=\u001b[39m fig\u001b[39m.\u001b[39madd_subplot(\u001b[39m111\u001b[39m)\n",
      "\u001b[1;31mNameError\u001b[0m: name 'u_features' is not defined"
     ]
    }
   ],
   "source": [
    "pca = PCA(n_components=2)\n",
    "res = pca.fit_transform(scaler.fit_transform(u_features))\n",
    "\n",
    "fig = plt.figure(dpi=300,figsize=(20,5))\n",
    "ax = fig.add_subplot(111)\n",
    "ax.scatter(res[:,0],res[:,1],s=7)\n",
    "for i in range(len(u_features)):\n",
    "    plt.annotate(u_names[i], \n",
    "                 xy=(res[i,0],res[i,1]), \n",
    "                 xytext=(res[i,0],res[i,1]),\n",
    "                 fontsize=8,\n",
    "                 ha=\"center\")\n"
   ]
  },
  {
   "cell_type": "code",
   "execution_count": null,
   "metadata": {},
   "outputs": [],
   "source": []
  }
 ],
 "metadata": {
  "kernelspec": {
   "display_name": "Python 3",
   "language": "python",
   "name": "python3"
  },
  "language_info": {
   "codemirror_mode": {
    "name": "ipython",
    "version": 3
   },
   "file_extension": ".py",
   "mimetype": "text/x-python",
   "name": "python",
   "nbconvert_exporter": "python",
   "pygments_lexer": "ipython3",
   "version": "3.10.11"
  },
  "orig_nbformat": 4
 },
 "nbformat": 4,
 "nbformat_minor": 2
}
